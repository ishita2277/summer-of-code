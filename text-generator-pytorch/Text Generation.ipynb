{
 "cells": [
  {
   "cell_type": "markdown",
   "metadata": {},
   "source": [
    "## Part 1: Importing libraries\n"
   ]
  },
  {
   "cell_type": "code",
   "execution_count": 2,
   "metadata": {},
   "outputs": [
    {
     "data": {
      "text/html": [
       "        <script type=\"text/javascript\">\n",
       "        window.PlotlyConfig = {MathJaxConfig: 'local'};\n",
       "        if (window.MathJax) {MathJax.Hub.Config({SVG: {font: \"STIX-Web\"}});}\n",
       "        if (typeof require !== 'undefined') {\n",
       "        require.undef(\"plotly\");\n",
       "        requirejs.config({\n",
       "            paths: {\n",
       "                'plotly': ['https://cdn.plot.ly/plotly-latest.min']\n",
       "            }\n",
       "        });\n",
       "        require(['plotly'], function(Plotly) {\n",
       "            window._Plotly = Plotly;\n",
       "        });\n",
       "        }\n",
       "        </script>\n",
       "        "
      ]
     },
     "metadata": {},
     "output_type": "display_data"
    }
   ],
   "source": [
    "import numpy as np\n",
    "import torch\n",
    "from torch import nn\n",
    "import torch.nn.functional as F\n",
    "\n",
    "import glob\n",
    "import errno\n",
    "import sys, re, os\n",
    "from ipy_table import *\n",
    "from plotly import __version__\n",
    "from plotly.offline import download_plotlyjs, init_notebook_mode, plot, iplot\n",
    "from plotly.graph_objs import *\n",
    "init_notebook_mode(connected=True)\n"
   ]
  },
  {
   "cell_type": "markdown",
   "metadata": {},
   "source": [
    "## Part 2: Data Loading and Preprocessing\n",
    "\n",
    "We take the corpus of Shakespeare plays and try to generate Shakespearan English"
   ]
  },
  {
   "cell_type": "code",
   "execution_count": 1,
   "metadata": {},
   "outputs": [],
   "source": [
    "with open('./Data/shakespeare.txt', 'r') as f:\n",
    "    text = f.read()    \n",
    "\n",
    "text = text.replace('\\n','')\n",
    "text = text.replace('\\r','')\n",
    "text = text.replace('\\t','')"
   ]
  },
  {
   "cell_type": "code",
   "execution_count": null,
   "metadata": {},
   "outputs": [],
   "source": [
    "text[:5000]"
   ]
  },
  {
   "cell_type": "markdown",
   "metadata": {},
   "source": [
    "#### Embeddings: One-hot vectors\n",
    "- We take characters and convert them to integers\n",
    "- These integers are encoded as one-hot vectors\n",
    "- Character embeddings can be used for better results"
   ]
  },
  {
   "cell_type": "code",
   "execution_count": 4,
   "metadata": {},
   "outputs": [
    {
     "data": {
      "text/plain": [
       "array([68, 68, 68, 68, 68, 68, 68, 68, 68, 68, 68, 68, 68, 68, 68, 68, 68,\n",
       "       68, 68, 68, 68,  9, 68, 68, 76, 78, 40, 59, 68, 43, 16, 65, 78, 74,\n",
       "       20, 13, 68, 75, 78, 74, 16, 13, 70, 78, 74, 20, 68, 60, 74, 68, 45,\n",
       "       74, 20, 65, 78, 74, 68, 65, 54, 75, 78, 74, 16, 20, 74, 73, 68, 68,\n",
       "        8, 28, 16, 13, 68, 13, 28, 74, 78, 74, 64, 17, 68, 64, 74, 16, 70,\n",
       "       13, 17, 46, 20, 68, 78, 40, 20, 74, 68, 59, 65, 55, 28, 13])"
      ]
     },
     "execution_count": 4,
     "metadata": {},
     "output_type": "execute_result"
    }
   ],
   "source": [
    "chars = tuple(set(text))\n",
    "int2char = dict(enumerate(chars))\n",
    "char2int = {ch: ii for ii, ch in int2char.items()}\n",
    "\n",
    "encoded = np.array([char2int[ch] for ch in text])\n",
    "\n",
    "encoded[:100]\n"
   ]
  },
  {
   "cell_type": "code",
   "execution_count": 5,
   "metadata": {},
   "outputs": [],
   "source": [
    "def one_hot_encode(arr, n_labels):\n",
    "    one_hot = np.zeros((np.multiply(*arr.shape), n_labels), dtype=np.float32)\n",
    "    one_hot[np.arange(one_hot.shape[0]), arr.flatten()] = 1.\n",
    "    one_hot = one_hot.reshape((*arr.shape, n_labels))\n",
    "    return one_hot\n",
    "\n",
    "# Generator based on character\n",
    "def get_batches(arr, batch_size, seq_length):\n",
    "    batch_size_total = batch_size * seq_length\n",
    "    n_batches = len(arr)//batch_size_total\n",
    "    arr = arr[:n_batches * batch_size_total]\n",
    "    arr = arr.reshape((batch_size, -1))\n",
    "    for n in range(0, arr.shape[1], seq_length):\n",
    "        x = arr[:, n:n+seq_length]\n",
    "        y = np.zeros_like(x)\n",
    "        try:\n",
    "            y[:, :-1], y[:, -1] = x[:, 1:], arr[:, n+seq_length]\n",
    "        except IndexError:\n",
    "            y[:, :-1], y[:, -1] = x[:, 1:], arr[:, 0]\n",
    "        yield x, y\n"
   ]
  },
  {
   "cell_type": "markdown",
   "metadata": {},
   "source": [
    "## Part 3: Defining the Model\n",
    "\n",
    "- We define an LSTM (1 LSTM unit, 1 fully connected layer) to capture character information\n",
    "- The LSTM during training learns a \"language model\" on characters\n",
    "- It is then able to predict the next character \"fluently\""
   ]
  },
  {
   "cell_type": "code",
   "execution_count": 6,
   "metadata": {},
   "outputs": [
    {
     "name": "stdout",
     "output_type": "stream",
     "text": [
      "No GPU available, training on CPU; consider making n_epochs very small.\n"
     ]
    }
   ],
   "source": [
    "# Check if GPU is available\n",
    "train_on_gpu = torch.cuda.is_available()\n",
    "if(train_on_gpu):\n",
    "    print('Training on GPU!')\n",
    "else: \n",
    "    print('No GPU available')\n",
    "    \n",
    "#The model\n",
    "class CharRNN(nn.Module):\n",
    "    \n",
    "    def __init__(self, tokens, n_hidden=256, n_layers=2,\n",
    "                               drop_prob=0.5, lr=0.001):\n",
    "        super().__init__()\n",
    "        self.drop_prob = drop_prob\n",
    "        self.n_layers = n_layers\n",
    "        self.n_hidden = n_hidden\n",
    "        self.lr = lr\n",
    "        \n",
    "        self.chars = tokens\n",
    "        self.int2char = dict(enumerate(self.chars))\n",
    "        self.char2int = {ch: ii for ii, ch in self.int2char.items()}\n",
    "        \n",
    "        #define the LSTM\n",
    "        self.lstm = nn.LSTM(len(self.chars), n_hidden, n_layers, \n",
    "                            dropout=drop_prob, batch_first=True)\n",
    "        \n",
    "        self.dropout = nn.Dropout(drop_prob)\n",
    "        \n",
    "        self.fc = nn.Linear(n_hidden, len(self.chars))\n",
    "      \n",
    "    \n",
    "    def forward(self, x, hidden):\n",
    "        r_output, hidden = self.lstm(x, hidden)\n",
    "        out = self.dropout(r_output)\n",
    "        out = out.contiguous().view(-1, self.n_hidden)\n",
    "        out = self.fc(out)\n",
    "        return out, hidden\n",
    "    \n",
    "    \n",
    "    def init_hidden(self, batch_size):\n",
    "        weight = next(self.parameters()).data\n",
    "        \n",
    "        if (train_on_gpu):\n",
    "            hidden = (weight.new(self.n_layers, batch_size, self.n_hidden).zero_().cuda(),\n",
    "                  weight.new(self.n_layers, batch_size, self.n_hidden).zero_().cuda())\n",
    "        else:\n",
    "            hidden = (weight.new(self.n_layers, batch_size, self.n_hidden).zero_(),\n",
    "                      weight.new(self.n_layers, batch_size, self.n_hidden).zero_())\n",
    "        \n",
    "        return hidden\n",
    "       \n"
   ]
  },
  {
   "cell_type": "markdown",
   "metadata": {},
   "source": [
    "## Part 4: Training\n",
    "- Optimizer: Adam\n",
    "- Loss: Cross Entropy"
   ]
  },
  {
   "cell_type": "code",
   "execution_count": 10,
   "metadata": {},
   "outputs": [],
   "source": [
    "loss_array = []\n",
    "def train(net, data, epochs=10, batch_size=10, seq_length=50, lr=0.001, clip=5, val_frac=0.1, print_every=10):\n",
    "\n",
    "    net.train()\n",
    "    \n",
    "    opt = torch.optim.Adam(net.parameters(), lr=lr)\n",
    "    criterion = nn.CrossEntropyLoss()\n",
    "    \n",
    "    val_idx = int(len(data)*(1-val_frac))\n",
    "    data, val_data = data[:val_idx], data[val_idx:]\n",
    "    \n",
    "    if(train_on_gpu):\n",
    "        net.cuda()\n",
    "    \n",
    "    counter = 0\n",
    "    n_chars = len(net.chars)\n",
    "    for e in range(epochs):\n",
    "        h = net.init_hidden(batch_size)\n",
    "        \n",
    "        for x, y in get_batches(data, batch_size, seq_length):\n",
    "            counter += 1\n",
    "            \n",
    "            x = one_hot_encode(x, n_chars)\n",
    "            inputs, targets = torch.from_numpy(x), torch.from_numpy(y)\n",
    "            \n",
    "            if(train_on_gpu):\n",
    "                inputs, targets = inputs.cuda(), targets.cuda()\n",
    "\n",
    "            h = tuple([each.data for each in h])\n",
    "\n",
    "            net.zero_grad()\n",
    "\n",
    "            output, h = net(inputs, h)\n",
    "            \n",
    "            loss = criterion(output, targets.view(batch_size*seq_length).long())\n",
    "            loss.backward()\n",
    "            nn.utils.clip_grad_norm_(net.parameters(), clip)\n",
    "            opt.step()\n",
    "            \n",
    "            if counter % print_every == 0:\n",
    "                val_h = net.init_hidden(batch_size)\n",
    "                val_losses = []\n",
    "                net.eval()\n",
    "                for x, y in get_batches(val_data, batch_size, seq_length):\n",
    "                    x = one_hot_encode(x, n_chars)\n",
    "                    x, y = torch.from_numpy(x), torch.from_numpy(y)\n",
    "                    val_h = tuple([each.data for each in val_h])\n",
    "                    \n",
    "                    inputs, targets = x, y\n",
    "                    if(train_on_gpu):\n",
    "                        inputs, targets = inputs.cuda(), targets.cuda()\n",
    "\n",
    "                    output, val_h = net(inputs, val_h)\n",
    "                    val_loss = criterion(output, targets.view(batch_size*seq_length).long())\n",
    "                \n",
    "                    val_losses.append(val_loss.item())\n",
    "                \n",
    "                net.train() \n",
    "                loss_array.append(loss.item())\n",
    "                print(\"Epoch: {}/{}...\".format(e+1, epochs),\n",
    "                      \"Step: {}...\".format(counter),\n",
    "                      \"Loss: {:.4f}...\".format(loss.item()),\n",
    "                      \"Val Loss: {:.4f}\".format(np.mean(val_losses)))"
   ]
  },
  {
   "cell_type": "code",
   "execution_count": null,
   "metadata": {
    "scrolled": true
   },
   "outputs": [
    {
     "name": "stdout",
     "output_type": "stream",
     "text": [
      "CharRNN(\n",
      "  (lstm): LSTM(83, 256, num_layers=2, batch_first=True, dropout=0.5)\n",
      "  (dropout): Dropout(p=0.5)\n",
      "  (fc): Linear(in_features=256, out_features=83, bias=True)\n",
      ")\n",
      "Epoch: 1/3... Step: 2... Loss: 4.3904... Val Loss: 4.3610\n",
      "Epoch: 1/3... Step: 4... Loss: 4.3227... Val Loss: 4.2575\n",
      "Epoch: 1/3... Step: 6... Loss: 4.1257... Val Loss: 3.8788\n",
      "Epoch: 1/3... Step: 8... Loss: 3.5666... Val Loss: 3.4522\n",
      "Epoch: 1/3... Step: 10... Loss: 3.5318... Val Loss: 3.3275\n",
      "Epoch: 1/3... Step: 12... Loss: 3.2911... Val Loss: 3.2493\n",
      "Epoch: 1/3... Step: 14... Loss: 3.2398... Val Loss: 3.2440\n",
      "Epoch: 1/3... Step: 16... Loss: 3.2334... Val Loss: 3.2389\n",
      "Epoch: 1/3... Step: 18... Loss: 3.3169... Val Loss: 3.2203\n",
      "Epoch: 1/3... Step: 20... Loss: 3.2534... Val Loss: 3.2004\n",
      "Epoch: 1/3... Step: 22... Loss: 3.3613... Val Loss: 3.1927\n",
      "Epoch: 1/3... Step: 24... Loss: 3.3150... Val Loss: 3.1937\n",
      "Epoch: 1/3... Step: 26... Loss: 3.2331... Val Loss: 3.1951\n",
      "Epoch: 1/3... Step: 28... Loss: 3.2094... Val Loss: 3.1928\n",
      "Epoch: 1/3... Step: 30... Loss: 3.2713... Val Loss: 3.1891\n",
      "Epoch: 1/3... Step: 32... Loss: 3.3268... Val Loss: 3.1873\n",
      "Epoch: 1/3... Step: 34... Loss: 3.2188... Val Loss: 3.1866\n",
      "Epoch: 1/3... Step: 36... Loss: 3.1854... Val Loss: 3.1853\n",
      "Epoch: 1/3... Step: 38... Loss: 3.1936... Val Loss: 3.1832\n",
      "Epoch: 1/3... Step: 40... Loss: 3.1665... Val Loss: 3.1814\n",
      "Epoch: 1/3... Step: 42... Loss: 3.1825... Val Loss: 3.1809\n",
      "Epoch: 1/3... Step: 44... Loss: 3.1870... Val Loss: 3.1816\n",
      "Epoch: 1/3... Step: 46... Loss: 3.0846... Val Loss: 3.1830\n",
      "Epoch: 1/3... Step: 48... Loss: 3.1237... Val Loss: 3.1854\n",
      "Epoch: 1/3... Step: 50... Loss: 3.0674... Val Loss: 3.1870\n",
      "Epoch: 1/3... Step: 52... Loss: 3.1140... Val Loss: 3.1864\n",
      "Epoch: 1/3... Step: 54... Loss: 3.1543... Val Loss: 3.1859\n",
      "Epoch: 1/3... Step: 56... Loss: 3.1816... Val Loss: 3.1853\n",
      "Epoch: 1/3... Step: 58... Loss: 3.1726... Val Loss: 3.1842\n",
      "Epoch: 1/3... Step: 60... Loss: 3.1529... Val Loss: 3.1829\n",
      "Epoch: 1/3... Step: 62... Loss: 3.1450... Val Loss: 3.1807\n",
      "Epoch: 1/3... Step: 64... Loss: 3.1902... Val Loss: 3.1778\n",
      "Epoch: 1/3... Step: 66... Loss: 3.1001... Val Loss: 3.1762\n",
      "Epoch: 1/3... Step: 68... Loss: 3.2144... Val Loss: 3.1758\n",
      "Epoch: 1/3... Step: 70... Loss: 3.1765... Val Loss: 3.1751\n",
      "Epoch: 1/3... Step: 72... Loss: 3.1786... Val Loss: 3.1745\n",
      "Epoch: 1/3... Step: 74... Loss: 3.2238... Val Loss: 3.1743\n",
      "Epoch: 1/3... Step: 76... Loss: 3.1298... Val Loss: 3.1736\n",
      "Epoch: 1/3... Step: 78... Loss: 3.1701... Val Loss: 3.1724\n",
      "Epoch: 1/3... Step: 80... Loss: 3.1585... Val Loss: 3.1716\n",
      "Epoch: 1/3... Step: 82... Loss: 3.2231... Val Loss: 3.1705\n"
     ]
    }
   ],
   "source": [
    "n_hidden=256\n",
    "n_layers=2\n",
    "\n",
    "net = CharRNN(chars, n_hidden, n_layers)\n",
    "print(net)\n",
    "\n",
    "batch_size = 32\n",
    "seq_length = 100\n",
    "n_epochs = 3\n",
    "\n",
    "train(net, encoded, epochs=n_epochs, batch_size=batch_size, seq_length=seq_length, lr=0.001, print_every=2)\n",
    "\n",
    "model_name = 'rnn_20_epoch.net'\n",
    "\n",
    "checkpoint = {'n_hidden': net.n_hidden,\n",
    "              'n_layers': net.n_layers,\n",
    "              'state_dict': net.state_dict(),\n",
    "              'tokens': net.chars}\n",
    "\n",
    "with open(model_name, 'wb') as f:\n",
    "    torch.save(checkpoint, f)\n",
    "    \n",
    "def predict(net, char, h=None, top_k=None):\n",
    "\n",
    "        x = np.array([[net.char2int[char]]])\n",
    "        x = one_hot_encode(x, len(net.chars))\n",
    "        inputs = torch.from_numpy(x)\n",
    "        \n",
    "        if(train_on_gpu):\n",
    "            inputs = inputs.cuda()\n",
    "        \n",
    "        h = tuple([each.data for each in h])\n",
    "        out, h = net(inputs, h)\n",
    "\n",
    "        p = F.softmax(out, dim=1).data\n",
    "        if(train_on_gpu):\n",
    "            p = p.cpu() \n",
    "        \n",
    "        if top_k is None:\n",
    "            top_ch = np.arange(len(net.chars))\n",
    "        else:\n",
    "            p, top_ch = p.topk(top_k)\n",
    "            top_ch = top_ch.numpy().squeeze()\n",
    "        \n",
    "        p = p.numpy().squeeze()\n",
    "        char = np.random.choice(top_ch, p=p/p.sum())\n",
    "        \n",
    "        return net.int2char[char], h\n",
    "        \n",
    "def sample(net, size, prime='The', top_k=None):\n",
    "        \n",
    "    if(train_on_gpu):\n",
    "        net.cuda()\n",
    "    else:\n",
    "        net.cpu()\n",
    "    \n",
    "    net.eval()\n",
    "    chars = [ch for ch in prime]\n",
    "    h = net.init_hidden(1)\n",
    "    for ch in prime:\n",
    "        char, h = predict(net, ch, h, top_k=top_k)\n",
    "\n",
    "    chars.append(char)\n",
    "    \n",
    "    for ii in range(size):\n",
    "        char, h = predict(net, chars[-1], h, top_k=top_k)\n",
    "        chars.append(char)\n",
    "\n",
    "    return ''.join(chars)\n",
    "    \n",
    "# Generating new text\n",
    "print(sample(net, 1000, prime='T', top_k=10))"
   ]
  },
  {
   "cell_type": "code",
   "execution_count": null,
   "metadata": {},
   "outputs": [],
   "source": [
    "x = list(range(len(loss_array)))\n",
    "y = loss_array[:]"
   ]
  },
  {
   "cell_type": "code",
   "execution_count": null,
   "metadata": {},
   "outputs": [],
   "source": [
    "import matplotlib\n",
    "import matplotlib.pyplot as plt\n",
    "import numpy as np\n",
    "\n",
    "fig, ax = plt.subplots()\n",
    "ax.plot(x, y)\n",
    "\n",
    "ax.set(xlabel='Training step', ylabel='loss',\n",
    "       title='Training loss')\n",
    "ax.grid()\n",
    "# fig.savefig(\"test.png\")\n",
    "plt.show()"
   ]
  },
  {
   "cell_type": "code",
   "execution_count": null,
   "metadata": {},
   "outputs": [],
   "source": []
  }
 ],
 "metadata": {
  "kernelspec": {
   "display_name": "Python 3",
   "language": "python",
   "name": "python3"
  },
  "language_info": {
   "codemirror_mode": {
    "name": "ipython",
    "version": 3
   },
   "file_extension": ".py",
   "mimetype": "text/x-python",
   "name": "python",
   "nbconvert_exporter": "python",
   "pygments_lexer": "ipython3",
   "version": "3.5.2"
  }
 },
 "nbformat": 4,
 "nbformat_minor": 2
}

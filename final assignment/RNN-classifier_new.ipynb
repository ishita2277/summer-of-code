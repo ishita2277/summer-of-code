{
 "cells": [
  {
   "cell_type": "code",
   "execution_count": 1,
   "metadata": {
    "scrolled": true
   },
   "outputs": [
    {
     "name": "stderr",
     "output_type": "stream",
     "text": [
      "Using TensorFlow backend.\n"
     ]
    }
   ],
   "source": [
    "import pandas as pd\n",
    "import re\n",
    "import numpy as np\n",
    "from keras.preprocessing import sequence\n",
    "from keras.models import Sequential\n",
    "from keras.layers import Dense, Dropout, Embedding, RNN\n",
    "from tensorflow.keras import layers\n",
    "from tensorflow.python.ops import rnn, rnn_cell\n",
    "import tensorflow as tf"
   ]
  },
  {
   "cell_type": "markdown",
   "metadata": {},
   "source": [
    "## Loading and Preparing Data\n",
    "\n"
   ]
  },
  {
   "cell_type": "code",
   "execution_count": 2,
   "metadata": {},
   "outputs": [],
   "source": [
    "dfTrain = pd.read_csv(\"assign42019/train_data.txt\")   \n",
    "dfTest = pd.read_csv(\"assign42019/test_data.txt\")   \n",
    "dfLabel = pd.read_csv(\"assign42019/train_labels.txt\")   \n",
    "\n",
    "trainData = dfTrain.values\n",
    "testData = dfTest.values\n",
    "trainLabel = dfLabel.values"
   ]
  },
  {
   "cell_type": "code",
   "execution_count": 3,
   "metadata": {},
   "outputs": [
    {
     "data": {
      "text/plain": [
       "numpy.int64"
      ]
     },
     "execution_count": 3,
     "metadata": {},
     "output_type": "execute_result"
    }
   ],
   "source": [
    "type(trainLabel[1][0])"
   ]
  },
  {
   "cell_type": "code",
   "execution_count": 4,
   "metadata": {},
   "outputs": [],
   "source": [
    "trainList=[]\n",
    "for i in range(len(trainData)):\n",
    "    ls=[]\n",
    "    strToLs=trainData[i][0].split(' ')\n",
    "    for s in range(len(strToLs)):\n",
    "        if s<len(strToLs)-1:\n",
    "            ls.append(int(strToLs[s]))\n",
    "    trainList.append(ls)\n",
    "    \n",
    "    \n",
    "    \n",
    "testList=[]\n",
    "for i in range(len(testData)):\n",
    "    ls=[]\n",
    "    strToLs=testData[i][0].split(' ')\n",
    "    for s in range(len(strToLs)):\n",
    "        if s<len(strToLs)-1:\n",
    "            ls.append(int(strToLs[s]))\n",
    "    testList.append(ls)\n",
    "    \n",
    "    \n",
    "labels=[]\n",
    "for i in range(len(trainLabel)):\n",
    "    labels.append(int(trainLabel[i][0]))\n"
   ]
  },
  {
   "cell_type": "markdown",
   "metadata": {},
   "source": [
    "### Zero-padding for inputs that have length less than 2948"
   ]
  },
  {
   "cell_type": "code",
   "execution_count": 5,
   "metadata": {},
   "outputs": [],
   "source": [
    "for i in range(len(trainList)):\n",
    "    trainList[i].extend([0] * (2948 - len(trainList[i])))\n",
    "\n",
    "for i in range(len(testList)):\n",
    "    testList[i].extend([0] * (2948 - len(testList[i])))\n",
    "    "
   ]
  },
  {
   "cell_type": "code",
   "execution_count": 6,
   "metadata": {},
   "outputs": [],
   "source": [
    "trainD=np.asarray(trainList)\n",
    "testD=np.asarray(testList)\n",
    "lab=np.asarray(labels)\n",
    "trainD=trainD.reshape(1183,1,2948)\n",
    "testD=testD.reshape(394,1,2948)"
   ]
  },
  {
   "cell_type": "markdown",
   "metadata": {},
   "source": [
    "## RNN"
   ]
  },
  {
   "cell_type": "code",
   "execution_count": 7,
   "metadata": {},
   "outputs": [
    {
     "name": "stdout",
     "output_type": "stream",
     "text": [
      "_________________________________________________________________\n",
      "Layer (type)                 Output Shape              Param #   \n",
      "=================================================================\n",
      "simple_rnn (SimpleRNN)       (None, 32)                95392     \n",
      "_________________________________________________________________\n",
      "dense (Dense)                (None, 1)                 33        \n",
      "=================================================================\n",
      "Total params: 95,425\n",
      "Trainable params: 95,425\n",
      "Non-trainable params: 0\n",
      "_________________________________________________________________\n"
     ]
    }
   ],
   "source": [
    "model = tf.keras.Sequential()\n",
    "model.add(layers.SimpleRNN(units = 32, activation = \"tanh\", \n",
    "              input_shape = (1, 2948), return_sequences=False))\n",
    "\n",
    "model.add(layers.Dense(units = 1, activation = \"sigmoid\"))\n",
    "model.compile(optimizer = \"rmsprop\",\n",
    "  loss = \"binary_crossentropy\",\n",
    "  metrics = [\"accuracy\"] )\n",
    "model.summary()"
   ]
  },
  {
   "cell_type": "code",
   "execution_count": 8,
   "metadata": {},
   "outputs": [
    {
     "name": "stdout",
     "output_type": "stream",
     "text": [
      "Train...\n",
      "Epoch 1/30\n",
      "1183/1183 [==============================] - 0s 376us/step - loss: 0.8167 - acc: 0.5173\n",
      "Epoch 2/30\n",
      "1183/1183 [==============================] - 0s 132us/step - loss: 0.7671 - acc: 0.5469\n",
      "Epoch 3/30\n",
      "1183/1183 [==============================] - 0s 178us/step - loss: 0.7915 - acc: 0.5511\n",
      "Epoch 4/30\n",
      "1183/1183 [==============================] - 0s 151us/step - loss: 0.7829 - acc: 0.5655\n",
      "Epoch 5/30\n",
      "1183/1183 [==============================] - 0s 150us/step - loss: 0.7834 - acc: 0.5638\n",
      "Epoch 6/30\n",
      "1183/1183 [==============================] - 0s 182us/step - loss: 0.8053 - acc: 0.5613\n",
      "Epoch 7/30\n",
      "1183/1183 [==============================] - 0s 146us/step - loss: 0.8513 - acc: 0.5368\n",
      "Epoch 8/30\n",
      "1183/1183 [==============================] - 0s 128us/step - loss: 0.7753 - acc: 0.5554\n",
      "Epoch 9/30\n",
      "1183/1183 [==============================] - 0s 142us/step - loss: 0.7675 - acc: 0.5765\n",
      "Epoch 10/30\n",
      "1183/1183 [==============================] - 0s 144us/step - loss: 0.7362 - acc: 0.5664\n",
      "Epoch 11/30\n",
      "1183/1183 [==============================] - 0s 132us/step - loss: 0.7307 - acc: 0.5943\n",
      "Epoch 12/30\n",
      "1183/1183 [==============================] - 0s 157us/step - loss: 0.6910 - acc: 0.5833\n",
      "Epoch 13/30\n",
      "1183/1183 [==============================] - 0s 130us/step - loss: 0.6944 - acc: 0.5850\n",
      "Epoch 14/30\n",
      "1183/1183 [==============================] - 0s 150us/step - loss: 0.7022 - acc: 0.5917\n",
      "Epoch 15/30\n",
      "1183/1183 [==============================] - 0s 174us/step - loss: 0.6708 - acc: 0.6137\n",
      "Epoch 16/30\n",
      "1183/1183 [==============================] - 0s 211us/step - loss: 0.7017 - acc: 0.5816\n",
      "Epoch 17/30\n",
      "1183/1183 [==============================] - 0s 229us/step - loss: 0.7225 - acc: 0.5613\n",
      "Epoch 18/30\n",
      "1183/1183 [==============================] - 0s 216us/step - loss: 0.6893 - acc: 0.6281\n",
      "Epoch 19/30\n",
      "1183/1183 [==============================] - 0s 219us/step - loss: 0.6753 - acc: 0.6162\n",
      "Epoch 20/30\n",
      "1183/1183 [==============================] - 0s 227us/step - loss: 0.6610 - acc: 0.6399\n",
      "Epoch 21/30\n",
      "1183/1183 [==============================] - 0s 194us/step - loss: 0.6560 - acc: 0.6331\n",
      "Epoch 22/30\n",
      "1183/1183 [==============================] - 0s 147us/step - loss: 0.6614 - acc: 0.6323\n",
      "Epoch 23/30\n",
      "1183/1183 [==============================] - 0s 158us/step - loss: 0.6595 - acc: 0.6374\n",
      "Epoch 24/30\n",
      "1183/1183 [==============================] - 0s 210us/step - loss: 0.6554 - acc: 0.6145 0s - loss: 0.6603 - acc: 0.\n",
      "Epoch 25/30\n",
      "1183/1183 [==============================] - 0s 168us/step - loss: 0.6386 - acc: 0.6348\n",
      "Epoch 26/30\n",
      "1183/1183 [==============================] - 0s 173us/step - loss: 0.6500 - acc: 0.6357\n",
      "Epoch 27/30\n",
      "1183/1183 [==============================] - 0s 140us/step - loss: 0.6464 - acc: 0.6441\n",
      "Epoch 28/30\n",
      "1183/1183 [==============================] - 0s 172us/step - loss: 0.6408 - acc: 0.6196\n",
      "Epoch 29/30\n",
      "1183/1183 [==============================] - 0s 245us/step - loss: 0.6446 - acc: 0.6238\n",
      "Epoch 30/30\n",
      "1183/1183 [==============================] - 0s 176us/step - loss: 0.6507 - acc: 0.6171\n",
      "dict_keys(['loss', 'acc'])\n"
     ]
    }
   ],
   "source": [
    "print('Train...')\n",
    "history = model.fit(x=trainD, y=lab,\n",
    "          batch_size=32,\n",
    "          epochs=30)\n",
    "print(history.history.keys())\n",
    "import matplotlib.pyplot as plt"
   ]
  },
  {
   "cell_type": "code",
   "execution_count": null,
   "metadata": {},
   "outputs": [],
   "source": []
  },
  {
   "cell_type": "code",
   "execution_count": 9,
   "metadata": {},
   "outputs": [
    {
     "name": "stdout",
     "output_type": "stream",
     "text": [
      "[0.5173288246936346, 0.5469146233338577, 0.5511411661730917, 0.5655114112621833, 0.5638207941365665, 0.5612848692794825, 0.5367709216886118, 0.5553677087604042, 0.5765004222511942, 0.5663567205051799, 0.5942519014403664, 0.5832628905017399, 0.5849535075265879, 0.5917159758779021, 0.6136939986116888, 0.5815722742326563, 0.5612848686496786, 0.628064243801549, 0.6162299241741532, 0.6398985630762547, 0.633136094170713, 0.6322907863888616, 0.637362636984755, 0.6145393063935403, 0.6348267120017103, 0.6356720198339461, 0.6441251059658731, 0.6196111583246181, 0.6238377010126993, 0.617075232157542]\n",
      "[0, 1, 2, 3, 4, 5, 6, 7, 8, 9, 10, 11, 12, 13, 14, 15, 16, 17, 18, 19, 20, 21, 22, 23, 24, 25, 26, 27, 28, 29]\n"
     ]
    }
   ],
   "source": [
    "print(history.history['acc'])\n",
    "print(list(range(0,30)))"
   ]
  },
  {
   "cell_type": "code",
   "execution_count": 10,
   "metadata": {},
   "outputs": [
    {
     "data": {
      "image/png": "[encoded data removed]",
      "text/plain": [
       "<Figure size 432x288 with 1 Axes>"
      ]
     },
     "metadata": {
      "needs_background": "light"
     },
     "output_type": "display_data"
    },
    {
     "data": {
      "image/png": "[encoded data removed]",
      "text/plain": [
       "<Figure size 432x288 with 1 Axes>"
      ]
     },
     "metadata": {
      "needs_background": "light"
     },
     "output_type": "display_data"
    }
   ],
   "source": [
    "t = history.history['acc']\n",
    "s = list(range(0,30))\n",
    "\n",
    "plt.title('model accuracy')\n",
    "plt.ylabel('accuracy')\n",
    "plt.xlabel('epoch')\n",
    "\n",
    "fig, ax = plt.subplots()\n",
    "ax.plot(s, t)\n",
    "\n",
    "# ax.set(xlabel='time (s)', ylabel='voltage (mV)',\n",
    "#        title='About as simple as it gets, folks')\n",
    "ax.grid()\n",
    "\n",
    "\n",
    "fig.savefig(\"test.png\")\n",
    "plt.show()"
   ]
  },
  {
   "cell_type": "code",
   "execution_count": null,
   "metadata": {},
   "outputs": [],
   "source": []
  }
 ],
 "metadata": {
  "kernelspec": {
   "display_name": "Python 3",
   "language": "python",
   "name": "python3"
  },
  "language_info": {
   "codemirror_mode": {
    "name": "ipython",
    "version": 3
   },
   "file_extension": ".py",
   "mimetype": "text/x-python",
   "name": "python",
   "nbconvert_exporter": "python",
   "pygments_lexer": "ipython3",
   "version": "3.5.2"
  }
 },
 "nbformat": 4,
 "nbformat_minor": 2
}
